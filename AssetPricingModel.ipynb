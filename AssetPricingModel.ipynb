{
 "cells": [
  {
   "cell_type": "markdown",
   "metadata": {
    "ExecuteTime": {
     "end_time": "2020-06-24T04:40:30.997909Z",
     "start_time": "2020-06-24T04:40:30.992268Z"
    }
   },
   "source": [
    "# Factor Investing and CAMP, 3F-FF, FF-Chart, 5F-FF model"
   ]
  },
  {
   "cell_type": "code",
   "execution_count": 1,
   "metadata": {
    "ExecuteTime": {
     "end_time": "2020-06-24T04:43:17.620211Z",
     "start_time": "2020-06-24T04:43:11.793679Z"
    },
    "cell_style": "center",
    "code_folding": []
   },
   "outputs": [],
   "source": [
    "import pandas as pd\n",
    "import matplotlib.pyplot as plt\n",
    "import ipywidgets as wx\n",
    "from ipywidgets import interact\n",
    "from sklearn.model_selection import train_test_split\n",
    "from sklearn.linear_model import LinearRegression\n",
    "from sklearn.metrics import mean_absolute_error\n",
    "from pandas.plotting import register_matplotlib_converters\n",
    "from IPython.core.display import display, HTML\n",
    "import famafrench\n",
    "register_matplotlib_converters()"
   ]
  },
  {
   "cell_type": "code",
   "execution_count": 2,
   "metadata": {
    "ExecuteTime": {
     "end_time": "2020-06-24T04:43:17.633216Z",
     "start_time": "2020-06-24T04:43:17.626208Z"
    },
    "cell_style": "center",
    "code_folding": []
   },
   "outputs": [],
   "source": [
    "def create_ma_radios(value):\n",
    "    return wx.RadioButtons(value=value, options=famafrench.lookup_ma.keys(), description='Roll Avg')"
   ]
  },
  {
   "cell_type": "markdown",
   "metadata": {
    "cell_style": "center"
   },
   "source": [
    "# Fama French\n",
    "\n",
    "$ r = R_f + b_m \\cdot \\text{MER} + b_s \\cdot \\text{SMB} + b_v \\cdot \\text{HML} + b_p \\cdot \\text{RMW} + b_i \\cdot \\text{CMA} $\n",
    "\n",
    "$r$ is expected portfolio return \\\n",
    "$b_m$, $b_s$, $b_v$, $b_p$, $b_i$ are factor sensitivities\n",
    "\n",
    "# Factors Analysis\n",
    "$\\text{MER}$ is excess return of a broad market over the risk-free rate ($R_m - R_f$) (**market factor**) \\\n",
    "$\\text{SMB}$ is the average return on the *small* stock portfolios minus *big* stock portfolios (**size factor**) \\\n",
    "$\\text{HML}$ is the average return on *high* book value portfolios minus *low* book value (**value factor**)  \\\n",
    "$\\text{RMW}$ is the average return on *robust* minus *weak* operating profitability portfolios (**profitability factor**) \\\n",
    "$\\text{CMA}$ Conservative minus aggresive investments, proxied by the y/y growth in company asset value (**investment factor**)\n",
    "\n",
    "Definitions: https://mba.tuck.dartmouth.edu/pages/faculty/ken.french/Data_Library/f-f_5_factors_2x3.html"
   ]
  },
  {
   "cell_type": "code",
   "execution_count": 3,
   "metadata": {
    "ExecuteTime": {
     "end_time": "2020-06-24T04:43:17.792113Z",
     "start_time": "2020-06-24T04:43:17.639090Z"
    },
    "cell_style": "center",
    "code_folding": []
   },
   "outputs": [
    {
     "data": {
      "text/html": [
       "<b>Factors time series</b>"
      ],
      "text/plain": [
       "<IPython.core.display.HTML object>"
      ]
     },
     "metadata": {},
     "output_type": "display_data"
    },
    {
     "data": {
      "text/html": [
       "<div>\n",
       "<style scoped>\n",
       "    .dataframe tbody tr th:only-of-type {\n",
       "        vertical-align: middle;\n",
       "    }\n",
       "\n",
       "    .dataframe tbody tr th {\n",
       "        vertical-align: top;\n",
       "    }\n",
       "\n",
       "    .dataframe thead th {\n",
       "        text-align: right;\n",
       "    }\n",
       "</style>\n",
       "<table border=\"1\" class=\"dataframe\">\n",
       "  <thead>\n",
       "    <tr style=\"text-align: right;\">\n",
       "      <th></th>\n",
       "      <th>MER</th>\n",
       "      <th>SMB</th>\n",
       "      <th>HML</th>\n",
       "      <th>RMW</th>\n",
       "      <th>CMA</th>\n",
       "      <th>RF</th>\n",
       "    </tr>\n",
       "  </thead>\n",
       "  <tbody>\n",
       "    <tr>\n",
       "      <th>1963-07-01</th>\n",
       "      <td>-0.0067</td>\n",
       "      <td>0.0000</td>\n",
       "      <td>-0.0032</td>\n",
       "      <td>-0.0001</td>\n",
       "      <td>0.0015</td>\n",
       "      <td>0.00012</td>\n",
       "    </tr>\n",
       "    <tr>\n",
       "      <th>1963-07-02</th>\n",
       "      <td>0.0079</td>\n",
       "      <td>-0.0027</td>\n",
       "      <td>0.0027</td>\n",
       "      <td>-0.0007</td>\n",
       "      <td>-0.0019</td>\n",
       "      <td>0.00012</td>\n",
       "    </tr>\n",
       "    <tr>\n",
       "      <th>1963-07-03</th>\n",
       "      <td>0.0063</td>\n",
       "      <td>-0.0017</td>\n",
       "      <td>-0.0009</td>\n",
       "      <td>0.0017</td>\n",
       "      <td>-0.0033</td>\n",
       "      <td>0.00012</td>\n",
       "    </tr>\n",
       "    <tr>\n",
       "      <th>1963-07-05</th>\n",
       "      <td>0.0040</td>\n",
       "      <td>0.0008</td>\n",
       "      <td>-0.0028</td>\n",
       "      <td>0.0008</td>\n",
       "      <td>-0.0033</td>\n",
       "      <td>0.00012</td>\n",
       "    </tr>\n",
       "    <tr>\n",
       "      <th>1963-07-08</th>\n",
       "      <td>-0.0063</td>\n",
       "      <td>0.0004</td>\n",
       "      <td>-0.0018</td>\n",
       "      <td>-0.0029</td>\n",
       "      <td>0.0013</td>\n",
       "      <td>0.00012</td>\n",
       "    </tr>\n",
       "    <tr>\n",
       "      <th>...</th>\n",
       "      <td>...</td>\n",
       "      <td>...</td>\n",
       "      <td>...</td>\n",
       "      <td>...</td>\n",
       "      <td>...</td>\n",
       "      <td>...</td>\n",
       "    </tr>\n",
       "    <tr>\n",
       "      <th>2020-04-24</th>\n",
       "      <td>0.0144</td>\n",
       "      <td>0.0029</td>\n",
       "      <td>-0.0009</td>\n",
       "      <td>-0.0014</td>\n",
       "      <td>0.0016</td>\n",
       "      <td>0.00000</td>\n",
       "    </tr>\n",
       "    <tr>\n",
       "      <th>2020-04-27</th>\n",
       "      <td>0.0173</td>\n",
       "      <td>0.0220</td>\n",
       "      <td>0.0274</td>\n",
       "      <td>-0.0012</td>\n",
       "      <td>0.0020</td>\n",
       "      <td>0.00000</td>\n",
       "    </tr>\n",
       "    <tr>\n",
       "      <th>2020-04-28</th>\n",
       "      <td>-0.0044</td>\n",
       "      <td>0.0165</td>\n",
       "      <td>0.0289</td>\n",
       "      <td>0.0139</td>\n",
       "      <td>0.0074</td>\n",
       "      <td>0.00000</td>\n",
       "    </tr>\n",
       "    <tr>\n",
       "      <th>2020-04-29</th>\n",
       "      <td>0.0292</td>\n",
       "      <td>0.0227</td>\n",
       "      <td>0.0204</td>\n",
       "      <td>0.0122</td>\n",
       "      <td>-0.0081</td>\n",
       "      <td>0.00000</td>\n",
       "    </tr>\n",
       "    <tr>\n",
       "      <th>2020-04-30</th>\n",
       "      <td>-0.0118</td>\n",
       "      <td>-0.0206</td>\n",
       "      <td>-0.0163</td>\n",
       "      <td>0.0071</td>\n",
       "      <td>-0.0010</td>\n",
       "      <td>0.00000</td>\n",
       "    </tr>\n",
       "  </tbody>\n",
       "</table>\n",
       "<p>14306 rows × 6 columns</p>\n",
       "</div>"
      ],
      "text/plain": [
       "               MER     SMB     HML     RMW     CMA       RF\n",
       "1963-07-01 -0.0067  0.0000 -0.0032 -0.0001  0.0015  0.00012\n",
       "1963-07-02  0.0079 -0.0027  0.0027 -0.0007 -0.0019  0.00012\n",
       "1963-07-03  0.0063 -0.0017 -0.0009  0.0017 -0.0033  0.00012\n",
       "1963-07-05  0.0040  0.0008 -0.0028  0.0008 -0.0033  0.00012\n",
       "1963-07-08 -0.0063  0.0004 -0.0018 -0.0029  0.0013  0.00012\n",
       "...            ...     ...     ...     ...     ...      ...\n",
       "2020-04-24  0.0144  0.0029 -0.0009 -0.0014  0.0016  0.00000\n",
       "2020-04-27  0.0173  0.0220  0.0274 -0.0012  0.0020  0.00000\n",
       "2020-04-28 -0.0044  0.0165  0.0289  0.0139  0.0074  0.00000\n",
       "2020-04-29  0.0292  0.0227  0.0204  0.0122 -0.0081  0.00000\n",
       "2020-04-30 -0.0118 -0.0206 -0.0163  0.0071 -0.0010  0.00000\n",
       "\n",
       "[14306 rows x 6 columns]"
      ]
     },
     "metadata": {},
     "output_type": "display_data"
    },
    {
     "data": {
      "text/html": [
       "<b>Factors Statistics</b>"
      ],
      "text/plain": [
       "<IPython.core.display.HTML object>"
      ]
     },
     "metadata": {},
     "output_type": "display_data"
    },
    {
     "data": {
      "text/html": [
       "<div>\n",
       "<style scoped>\n",
       "    .dataframe tbody tr th:only-of-type {\n",
       "        vertical-align: middle;\n",
       "    }\n",
       "\n",
       "    .dataframe tbody tr th {\n",
       "        vertical-align: top;\n",
       "    }\n",
       "\n",
       "    .dataframe thead th {\n",
       "        text-align: right;\n",
       "    }\n",
       "</style>\n",
       "<table border=\"1\" class=\"dataframe\">\n",
       "  <thead>\n",
       "    <tr style=\"text-align: right;\">\n",
       "      <th></th>\n",
       "      <th>count</th>\n",
       "      <th>mean</th>\n",
       "      <th>std</th>\n",
       "      <th>min</th>\n",
       "      <th>25%</th>\n",
       "      <th>50%</th>\n",
       "      <th>75%</th>\n",
       "      <th>max</th>\n",
       "    </tr>\n",
       "  </thead>\n",
       "  <tbody>\n",
       "    <tr>\n",
       "      <th>MER</th>\n",
       "      <td>14306.0</td>\n",
       "      <td>0.000254</td>\n",
       "      <td>0.010113</td>\n",
       "      <td>-0.1744</td>\n",
       "      <td>-0.00410</td>\n",
       "      <td>0.00050</td>\n",
       "      <td>0.00490</td>\n",
       "      <td>0.11350</td>\n",
       "    </tr>\n",
       "    <tr>\n",
       "      <th>SMB</th>\n",
       "      <td>14306.0</td>\n",
       "      <td>0.000066</td>\n",
       "      <td>0.005257</td>\n",
       "      <td>-0.1117</td>\n",
       "      <td>-0.00270</td>\n",
       "      <td>0.00020</td>\n",
       "      <td>0.00300</td>\n",
       "      <td>0.06080</td>\n",
       "    </tr>\n",
       "    <tr>\n",
       "      <th>HML</th>\n",
       "      <td>14306.0</td>\n",
       "      <td>0.000132</td>\n",
       "      <td>0.005160</td>\n",
       "      <td>-0.0472</td>\n",
       "      <td>-0.00230</td>\n",
       "      <td>0.00010</td>\n",
       "      <td>0.00240</td>\n",
       "      <td>0.04830</td>\n",
       "    </tr>\n",
       "    <tr>\n",
       "      <th>RMW</th>\n",
       "      <td>14306.0</td>\n",
       "      <td>0.000127</td>\n",
       "      <td>0.003680</td>\n",
       "      <td>-0.0292</td>\n",
       "      <td>-0.00170</td>\n",
       "      <td>0.00010</td>\n",
       "      <td>0.00180</td>\n",
       "      <td>0.04400</td>\n",
       "    </tr>\n",
       "    <tr>\n",
       "      <th>CMA</th>\n",
       "      <td>14306.0</td>\n",
       "      <td>0.000129</td>\n",
       "      <td>0.003643</td>\n",
       "      <td>-0.0594</td>\n",
       "      <td>-0.00170</td>\n",
       "      <td>0.00010</td>\n",
       "      <td>0.00190</td>\n",
       "      <td>0.02530</td>\n",
       "    </tr>\n",
       "    <tr>\n",
       "      <th>RF</th>\n",
       "      <td>14306.0</td>\n",
       "      <td>0.000179</td>\n",
       "      <td>0.000125</td>\n",
       "      <td>0.0000</td>\n",
       "      <td>0.00008</td>\n",
       "      <td>0.00018</td>\n",
       "      <td>0.00024</td>\n",
       "      <td>0.00061</td>\n",
       "    </tr>\n",
       "  </tbody>\n",
       "</table>\n",
       "</div>"
      ],
      "text/plain": [
       "       count      mean       std     min      25%      50%      75%      max\n",
       "MER  14306.0  0.000254  0.010113 -0.1744 -0.00410  0.00050  0.00490  0.11350\n",
       "SMB  14306.0  0.000066  0.005257 -0.1117 -0.00270  0.00020  0.00300  0.06080\n",
       "HML  14306.0  0.000132  0.005160 -0.0472 -0.00230  0.00010  0.00240  0.04830\n",
       "RMW  14306.0  0.000127  0.003680 -0.0292 -0.00170  0.00010  0.00180  0.04400\n",
       "CMA  14306.0  0.000129  0.003643 -0.0594 -0.00170  0.00010  0.00190  0.02530\n",
       "RF   14306.0  0.000179  0.000125  0.0000  0.00008  0.00018  0.00024  0.00061"
      ]
     },
     "metadata": {},
     "output_type": "display_data"
    },
    {
     "data": {
      "text/html": [
       "<b>Factors Correlation Matrix</b>"
      ],
      "text/plain": [
       "<IPython.core.display.HTML object>"
      ]
     },
     "metadata": {},
     "output_type": "display_data"
    },
    {
     "data": {
      "text/html": [
       "<div>\n",
       "<style scoped>\n",
       "    .dataframe tbody tr th:only-of-type {\n",
       "        vertical-align: middle;\n",
       "    }\n",
       "\n",
       "    .dataframe tbody tr th {\n",
       "        vertical-align: top;\n",
       "    }\n",
       "\n",
       "    .dataframe thead th {\n",
       "        text-align: right;\n",
       "    }\n",
       "</style>\n",
       "<table border=\"1\" class=\"dataframe\">\n",
       "  <thead>\n",
       "    <tr style=\"text-align: right;\">\n",
       "      <th></th>\n",
       "      <th>MER</th>\n",
       "      <th>SMB</th>\n",
       "      <th>HML</th>\n",
       "      <th>RMW</th>\n",
       "      <th>CMA</th>\n",
       "      <th>RF</th>\n",
       "    </tr>\n",
       "  </thead>\n",
       "  <tbody>\n",
       "    <tr>\n",
       "      <th>MER</th>\n",
       "      <td>1.000000</td>\n",
       "      <td>-0.098804</td>\n",
       "      <td>-0.170869</td>\n",
       "      <td>-0.199234</td>\n",
       "      <td>-0.364157</td>\n",
       "      <td>-0.018872</td>\n",
       "    </tr>\n",
       "    <tr>\n",
       "      <th>SMB</th>\n",
       "      <td>-0.098804</td>\n",
       "      <td>1.000000</td>\n",
       "      <td>0.093717</td>\n",
       "      <td>-0.282457</td>\n",
       "      <td>0.017021</td>\n",
       "      <td>-0.011284</td>\n",
       "    </tr>\n",
       "    <tr>\n",
       "      <th>HML</th>\n",
       "      <td>-0.170869</td>\n",
       "      <td>0.093717</td>\n",
       "      <td>1.000000</td>\n",
       "      <td>-0.048140</td>\n",
       "      <td>0.541814</td>\n",
       "      <td>0.026391</td>\n",
       "    </tr>\n",
       "    <tr>\n",
       "      <th>RMW</th>\n",
       "      <td>-0.199234</td>\n",
       "      <td>-0.282457</td>\n",
       "      <td>-0.048140</td>\n",
       "      <td>1.000000</td>\n",
       "      <td>0.063369</td>\n",
       "      <td>0.002674</td>\n",
       "    </tr>\n",
       "    <tr>\n",
       "      <th>CMA</th>\n",
       "      <td>-0.364157</td>\n",
       "      <td>0.017021</td>\n",
       "      <td>0.541814</td>\n",
       "      <td>0.063369</td>\n",
       "      <td>1.000000</td>\n",
       "      <td>0.023622</td>\n",
       "    </tr>\n",
       "    <tr>\n",
       "      <th>RF</th>\n",
       "      <td>-0.018872</td>\n",
       "      <td>-0.011284</td>\n",
       "      <td>0.026391</td>\n",
       "      <td>0.002674</td>\n",
       "      <td>0.023622</td>\n",
       "      <td>1.000000</td>\n",
       "    </tr>\n",
       "  </tbody>\n",
       "</table>\n",
       "</div>"
      ],
      "text/plain": [
       "          MER       SMB       HML       RMW       CMA        RF\n",
       "MER  1.000000 -0.098804 -0.170869 -0.199234 -0.364157 -0.018872\n",
       "SMB -0.098804  1.000000  0.093717 -0.282457  0.017021 -0.011284\n",
       "HML -0.170869  0.093717  1.000000 -0.048140  0.541814  0.026391\n",
       "RMW -0.199234 -0.282457 -0.048140  1.000000  0.063369  0.002674\n",
       "CMA -0.364157  0.017021  0.541814  0.063369  1.000000  0.023622\n",
       "RF  -0.018872 -0.011284  0.026391  0.002674  0.023622  1.000000"
      ]
     },
     "metadata": {},
     "output_type": "display_data"
    }
   ],
   "source": [
    "display(HTML('<b>Factors time series</b>'), famafrench.df_factors)\n",
    "display(HTML('<b>Factors Statistics</b>'), famafrench.df_factors.describe().T)\n",
    "display(HTML('<b>Factors Correlation Matrix</b>'), famafrench.df_factors.corr())"
   ]
  },
  {
   "cell_type": "code",
   "execution_count": 4,
   "metadata": {
    "ExecuteTime": {
     "end_time": "2020-06-24T04:43:19.020135Z",
     "start_time": "2020-06-24T04:43:17.796116Z"
    },
    "cell_style": "center",
    "code_folding": [],
    "scrolled": false
   },
   "outputs": [
    {
     "data": {
      "text/html": [
       "<b>Distribution Analysis</b>"
      ],
      "text/plain": [
       "<IPython.core.display.HTML object>"
      ]
     },
     "metadata": {},
     "output_type": "display_data"
    },
    {
     "data": {
      "application/vnd.jupyter.widget-view+json": {
       "model_id": "e4bb9746b5a8421c87414a927c34389b",
       "version_major": 2,
       "version_minor": 0
      },
      "text/plain": [
       "HBox(children=(Dropdown(description='Factor', options=('Market Factor (MER)', 'Size Factor (SMB)', 'Value Fact…"
      ]
     },
     "metadata": {},
     "output_type": "display_data"
    },
    {
     "data": {
      "application/vnd.jupyter.widget-view+json": {
       "model_id": "3d12691dda1b44b3aef0934323bb6da2",
       "version_major": 2,
       "version_minor": 0
      },
      "text/plain": [
       "Output()"
      ]
     },
     "metadata": {},
     "output_type": "display_data"
    },
    {
     "data": {
      "application/vnd.jupyter.widget-view+json": {
       "model_id": "edeb68369093407bb91d3f17c712ac81",
       "version_major": 2,
       "version_minor": 0
      },
      "text/plain": [
       "Output()"
      ]
     },
     "metadata": {},
     "output_type": "display_data"
    }
   ],
   "source": [
    "display(HTML(\"<b>Distribution Analysis</b>\"))\n",
    "    \n",
    "wx_ff=wx.Dropdown(options=famafrench.lookup_factors.keys(), description='Factor')\n",
    "wx_ma=create_ma_radios('1D')\n",
    "wx_out1=wx.interactive_output(famafrench.plot_factor_hists, {'ff':wx_ff, 'ma':wx_ma})\n",
    "wx_out2=wx.interactive_output(famafrench.plot_factor_timeseries, {'ff':wx_ff, 'ma':wx_ma})\n",
    "display(wx.HBox([wx_ff, wx_ma]), wx_out1, wx_out2)"
   ]
  },
  {
   "cell_type": "markdown",
   "metadata": {},
   "source": [
    "# Portfolio Analysis"
   ]
  },
  {
   "cell_type": "code",
   "execution_count": 5,
   "metadata": {
    "ExecuteTime": {
     "end_time": "2020-06-24T04:43:28.386129Z",
     "start_time": "2020-06-24T04:43:19.024131Z"
    },
    "code_folding": [],
    "scrolled": false
   },
   "outputs": [
    {
     "data": {
      "application/vnd.jupyter.widget-view+json": {
       "model_id": "5c1126254ff6466da99348f140c74989",
       "version_major": 2,
       "version_minor": 0
      },
      "text/plain": [
       "Dropdown(description='Portfolio', layout=Layout(width='500px'), options=('1. Bivariate SMB+HML (2x3) ➤ Value W…"
      ]
     },
     "metadata": {},
     "output_type": "display_data"
    },
    {
     "data": {
      "application/vnd.jupyter.widget-view+json": {
       "model_id": "fe8b3d81719a4e30b5573f1139467881",
       "version_major": 2,
       "version_minor": 0
      },
      "text/plain": [
       "HBox(children=(SelectionRangeSlider(continuous_update=False, description='Range', index=(0, 60), layout=Layout…"
      ]
     },
     "metadata": {},
     "output_type": "display_data"
    },
    {
     "data": {
      "application/vnd.jupyter.widget-view+json": {
       "model_id": "0aa28fc8129e4440a206487819176991",
       "version_major": 2,
       "version_minor": 0
      },
      "text/plain": [
       "HBox(children=(Output(), Output()))"
      ]
     },
     "metadata": {},
     "output_type": "display_data"
    },
    {
     "data": {
      "application/vnd.jupyter.widget-view+json": {
       "model_id": "c60d769ce15c468394922c0bbdef0c1d",
       "version_major": 2,
       "version_minor": 0
      },
      "text/plain": [
       "HBox(children=(Output(layout=Layout(height='700px')), RadioButtons(description='Roll Avg', index=3, options=('…"
      ]
     },
     "metadata": {},
     "output_type": "display_data"
    }
   ],
   "source": [
    "def create_factor_radios():\n",
    "    return {\n",
    "        'f_mer': wx.Checkbox(description='MER', indent=False, layout=chkbox_layout, value=True),\n",
    "        'f_smb': wx.Checkbox(description='SMB', indent=False, layout=chkbox_layout, value=True),\n",
    "        'f_hml': wx.Checkbox(description='HML', indent=False, layout=chkbox_layout, value=True),\n",
    "        'f_rmw': wx.Checkbox(description='RMW', indent=False, layout=chkbox_layout),\n",
    "        'f_cma': wx.Checkbox(description='CMA', indent=False, layout=chkbox_layout),\n",
    "    }\n",
    "\n",
    "def create_portfolio_dropdown():\n",
    "    return wx.Dropdown(options=famafrench.portfolios.keys(), description='Portfolio', layout=wx.Layout(width='500px'))\n",
    "\n",
    "\n",
    "chkbox_layout = wx.Layout(width='70px')\n",
    "wx_pname = create_portfolio_dropdown()\n",
    "wx_ma = create_ma_radios('3Y')\n",
    "wx_factor_list = create_factor_radios()\n",
    "wx_daterange=wx.SelectionRangeSlider(options=range(1960,2021), index=(0, len(range(1960,2021))-1), description='Range', continuous_update=False, layout=wx.Layout(width='500px'))\n",
    "wx_out=wx.interactive_output(famafrench.fit_portfolio_returns, {'pname':wx_pname, **wx_factor_list , 'ma': wx_ma, 'daterange': wx_daterange})\n",
    "wx_out.layout.height='700px'\n",
    "wx_out_r2hist = wx.interactive_output(famafrench.draw_R2_hist, {'pname':wx_pname, 'daterange': wx_daterange})\n",
    "wx_out_r2series = wx.interactive_output(famafrench.draw_R2_series, {'pname':wx_pname, **wx_factor_list, 'daterange': wx_daterange})\n",
    "display(\n",
    "    wx_pname, \n",
    "    wx.HBox([wx_daterange, *(wx_factor_list.values())]),\n",
    "    wx.HBox([wx_out_r2hist, wx_out_r2series]),\n",
    "    wx.HBox([wx_out, wx_ma]))"
   ]
  }
 ],
 "metadata": {
  "kernelspec": {
   "display_name": "Python 3",
   "language": "python",
   "name": "python3"
  },
  "language_info": {
   "codemirror_mode": {
    "name": "ipython",
    "version": 3
   },
   "file_extension": ".py",
   "mimetype": "text/x-python",
   "name": "python",
   "nbconvert_exporter": "python",
   "pygments_lexer": "ipython3",
   "version": "3.8.8"
  }
 },
 "nbformat": 4,
 "nbformat_minor": 2
}
